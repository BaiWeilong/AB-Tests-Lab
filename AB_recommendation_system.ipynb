{
 "cells": [
  {
   "cell_type": "markdown",
   "metadata": {},
   "source": [
    "# A/B Тест Отчет\n",
    "\n",
    "## Введение\n",
    "Наша команда внедрила в приложение умную систему рекомендации товаров – предполагается, что такая система поможет пользователям эффективнее работать с приложением и лучше находить необходимые товары.\n",
    "\n",
    "Чтобы проверить эффективность системы рекомендаций, был проведен АБ-тест. В группе 1 оказались пользователи с новой системой рекомендаций, в группе 0 пользователи со старой версией приложения, где нет рекомендации товаров.\n",
    "\n",
    "С помощью серии статистических тестов мы оценим, смогла ли новая система рекомендаций принести пользу бизнесу и пользователям приложения. \n",
    "\n",
    "## Описание данных\n",
    "Наш набор данных состоит из:\n",
    "\n",
    "    ab_users_data – история заказов пользователей, в этой таблице есть информация о том, какие заказы создавали и отменяли пользователи\n",
    "    ab_orders – подробная информация о составе заказа, тут для каждого заказа есть список id тех продуктов, которые были включены в заказ\n",
    "    ab_products – подробная информация о продуктах, их название и стоимость"
   ]
  },
  {
   "cell_type": "markdown",
   "metadata": {},
   "source": [
    "## Разведочный анализ данных\n",
    "Для начала загрузим данные и проведем первоначальное исследование, чтобы понять их структуру и содержание."
   ]
  },
  {
   "cell_type": "code",
   "execution_count": 3,
   "metadata": {},
   "outputs": [],
   "source": [
    "import pandas as pd\n",
    "from scipy.stats import ttest_ind\n",
    "import matplotlib.pyplot as plt\n",
    "import seaborn as sns\n",
    "import requests"
   ]
  },
  {
   "cell_type": "code",
   "execution_count": 4,
   "metadata": {},
   "outputs": [],
   "source": [
    "def read_file(href: str, parse_dates=None) -> pd.DataFrame:\n",
    "    \"\"\"\n",
    "    Функция возвращает считанный датафрейм по публичной ссылке на файл.\n",
    "    \n",
    "    :param href: Публичная ссылка на файл\n",
    "    :param parse_dates: Список колонок, которые нужно преобразовать в даты\n",
    "    :return: DataFrame, считанный из файла\n",
    "    \"\"\"\n",
    "    base_url = 'https://cloud-api.yandex.net/v1/disk/public/resources/download?'\n",
    "\n",
    "    final_url = f\"{base_url}public_key={href}\"\n",
    "    response = requests.get(final_url)\n",
    "    \n",
    "    download_url = response.json()['href']\n",
    "    \n",
    "    return pd.read_csv(download_url, parse_dates=parse_dates)"
   ]
  },
  {
   "cell_type": "code",
   "execution_count": 5,
   "metadata": {},
   "outputs": [],
   "source": [
    "ab_users_data = read_file('https://disk.yandex.ru/d/4qY27tJ23G_B1g')\n",
    "ab_orders = read_file('https://disk.yandex.ru/d/prdO8FDQx7lzCg')\n",
    "ab_products = read_file('https://disk.yandex.ru/d/atwrlmB_wu-fHA')"
   ]
  },
  {
   "cell_type": "code",
   "execution_count": 6,
   "metadata": {},
   "outputs": [],
   "source": [
    "#ab_users_data = pd.read_csv('ab_users_data.csv').query('action == \"create_order\"') # Для моих метрик нужны будут только совершенные заказы"
   ]
  },
  {
   "cell_type": "code",
   "execution_count": 7,
   "metadata": {},
   "outputs": [
    {
     "data": {
      "text/html": [
       "<div>\n",
       "<style scoped>\n",
       "    .dataframe tbody tr th:only-of-type {\n",
       "        vertical-align: middle;\n",
       "    }\n",
       "\n",
       "    .dataframe tbody tr th {\n",
       "        vertical-align: top;\n",
       "    }\n",
       "\n",
       "    .dataframe thead th {\n",
       "        text-align: right;\n",
       "    }\n",
       "</style>\n",
       "<table border=\"1\" class=\"dataframe\">\n",
       "  <thead>\n",
       "    <tr style=\"text-align: right;\">\n",
       "      <th></th>\n",
       "      <th>user_id</th>\n",
       "      <th>order_id</th>\n",
       "      <th>action</th>\n",
       "      <th>time</th>\n",
       "      <th>date</th>\n",
       "      <th>group</th>\n",
       "    </tr>\n",
       "  </thead>\n",
       "  <tbody>\n",
       "    <tr>\n",
       "      <th>0</th>\n",
       "      <td>964</td>\n",
       "      <td>1255</td>\n",
       "      <td>create_order</td>\n",
       "      <td>2022-08-26 00:00:19.000000</td>\n",
       "      <td>2022-08-26</td>\n",
       "      <td>0</td>\n",
       "    </tr>\n",
       "    <tr>\n",
       "      <th>1</th>\n",
       "      <td>965</td>\n",
       "      <td>1256</td>\n",
       "      <td>create_order</td>\n",
       "      <td>2022-08-26 00:02:21.000000</td>\n",
       "      <td>2022-08-26</td>\n",
       "      <td>1</td>\n",
       "    </tr>\n",
       "    <tr>\n",
       "      <th>2</th>\n",
       "      <td>964</td>\n",
       "      <td>1257</td>\n",
       "      <td>create_order</td>\n",
       "      <td>2022-08-26 00:02:27.000000</td>\n",
       "      <td>2022-08-26</td>\n",
       "      <td>0</td>\n",
       "    </tr>\n",
       "    <tr>\n",
       "      <th>3</th>\n",
       "      <td>966</td>\n",
       "      <td>1258</td>\n",
       "      <td>create_order</td>\n",
       "      <td>2022-08-26 00:02:56.000000</td>\n",
       "      <td>2022-08-26</td>\n",
       "      <td>0</td>\n",
       "    </tr>\n",
       "    <tr>\n",
       "      <th>4</th>\n",
       "      <td>967</td>\n",
       "      <td>1259</td>\n",
       "      <td>create_order</td>\n",
       "      <td>2022-08-26 00:03:37.000000</td>\n",
       "      <td>2022-08-26</td>\n",
       "      <td>1</td>\n",
       "    </tr>\n",
       "  </tbody>\n",
       "</table>\n",
       "</div>"
      ],
      "text/plain": [
       "   user_id  order_id        action                        time        date  \\\n",
       "0      964      1255  create_order  2022-08-26 00:00:19.000000  2022-08-26   \n",
       "1      965      1256  create_order  2022-08-26 00:02:21.000000  2022-08-26   \n",
       "2      964      1257  create_order  2022-08-26 00:02:27.000000  2022-08-26   \n",
       "3      966      1258  create_order  2022-08-26 00:02:56.000000  2022-08-26   \n",
       "4      967      1259  create_order  2022-08-26 00:03:37.000000  2022-08-26   \n",
       "\n",
       "   group  \n",
       "0      0  \n",
       "1      1  \n",
       "2      0  \n",
       "3      0  \n",
       "4      1  "
      ]
     },
     "execution_count": 7,
     "metadata": {},
     "output_type": "execute_result"
    }
   ],
   "source": [
    "ab_users_data.head()"
   ]
  },
  {
   "cell_type": "code",
   "execution_count": 4,
   "metadata": {},
   "outputs": [
    {
     "data": {
      "text/html": [
       "<div>\n",
       "<style scoped>\n",
       "    .dataframe tbody tr th:only-of-type {\n",
       "        vertical-align: middle;\n",
       "    }\n",
       "\n",
       "    .dataframe tbody tr th {\n",
       "        vertical-align: top;\n",
       "    }\n",
       "\n",
       "    .dataframe thead th {\n",
       "        text-align: right;\n",
       "    }\n",
       "</style>\n",
       "<table border=\"1\" class=\"dataframe\">\n",
       "  <thead>\n",
       "    <tr style=\"text-align: right;\">\n",
       "      <th></th>\n",
       "      <th>order_id</th>\n",
       "      <th>creation_time</th>\n",
       "      <th>product_ids</th>\n",
       "    </tr>\n",
       "  </thead>\n",
       "  <tbody>\n",
       "    <tr>\n",
       "      <th>0</th>\n",
       "      <td>1255</td>\n",
       "      <td>2022-08-26 00:00:19.000000</td>\n",
       "      <td>{75, 22, 53, 84}</td>\n",
       "    </tr>\n",
       "    <tr>\n",
       "      <th>1</th>\n",
       "      <td>1256</td>\n",
       "      <td>2022-08-26 00:02:21.000000</td>\n",
       "      <td>{56, 76, 39}</td>\n",
       "    </tr>\n",
       "    <tr>\n",
       "      <th>2</th>\n",
       "      <td>1257</td>\n",
       "      <td>2022-08-26 00:02:27.000000</td>\n",
       "      <td>{76, 34, 41, 38}</td>\n",
       "    </tr>\n",
       "    <tr>\n",
       "      <th>3</th>\n",
       "      <td>1258</td>\n",
       "      <td>2022-08-26 00:02:56.000000</td>\n",
       "      <td>{74, 6}</td>\n",
       "    </tr>\n",
       "    <tr>\n",
       "      <th>4</th>\n",
       "      <td>1259</td>\n",
       "      <td>2022-08-26 00:03:37.000000</td>\n",
       "      <td>{20, 45, 67, 26}</td>\n",
       "    </tr>\n",
       "  </tbody>\n",
       "</table>\n",
       "</div>"
      ],
      "text/plain": [
       "   order_id               creation_time       product_ids\n",
       "0      1255  2022-08-26 00:00:19.000000  {75, 22, 53, 84}\n",
       "1      1256  2022-08-26 00:02:21.000000      {56, 76, 39}\n",
       "2      1257  2022-08-26 00:02:27.000000  {76, 34, 41, 38}\n",
       "3      1258  2022-08-26 00:02:56.000000           {74, 6}\n",
       "4      1259  2022-08-26 00:03:37.000000  {20, 45, 67, 26}"
      ]
     },
     "execution_count": 4,
     "metadata": {},
     "output_type": "execute_result"
    }
   ],
   "source": [
    "ab_orders.head()"
   ]
  },
  {
   "cell_type": "code",
   "execution_count": 5,
   "metadata": {},
   "outputs": [
    {
     "data": {
      "text/html": [
       "<div>\n",
       "<style scoped>\n",
       "    .dataframe tbody tr th:only-of-type {\n",
       "        vertical-align: middle;\n",
       "    }\n",
       "\n",
       "    .dataframe tbody tr th {\n",
       "        vertical-align: top;\n",
       "    }\n",
       "\n",
       "    .dataframe thead th {\n",
       "        text-align: right;\n",
       "    }\n",
       "</style>\n",
       "<table border=\"1\" class=\"dataframe\">\n",
       "  <thead>\n",
       "    <tr style=\"text-align: right;\">\n",
       "      <th></th>\n",
       "      <th>product_id</th>\n",
       "      <th>name</th>\n",
       "      <th>price</th>\n",
       "    </tr>\n",
       "  </thead>\n",
       "  <tbody>\n",
       "    <tr>\n",
       "      <th>0</th>\n",
       "      <td>1</td>\n",
       "      <td>сахар</td>\n",
       "      <td>150.0</td>\n",
       "    </tr>\n",
       "    <tr>\n",
       "      <th>1</th>\n",
       "      <td>2</td>\n",
       "      <td>чай зеленый в пакетиках</td>\n",
       "      <td>50.0</td>\n",
       "    </tr>\n",
       "    <tr>\n",
       "      <th>2</th>\n",
       "      <td>3</td>\n",
       "      <td>вода негазированная</td>\n",
       "      <td>80.4</td>\n",
       "    </tr>\n",
       "    <tr>\n",
       "      <th>3</th>\n",
       "      <td>4</td>\n",
       "      <td>леденцы</td>\n",
       "      <td>45.5</td>\n",
       "    </tr>\n",
       "    <tr>\n",
       "      <th>4</th>\n",
       "      <td>5</td>\n",
       "      <td>кофе 3 в 1</td>\n",
       "      <td>15.0</td>\n",
       "    </tr>\n",
       "  </tbody>\n",
       "</table>\n",
       "</div>"
      ],
      "text/plain": [
       "   product_id                     name  price\n",
       "0           1                    сахар  150.0\n",
       "1           2  чай зеленый в пакетиках   50.0\n",
       "2           3      вода негазированная   80.4\n",
       "3           4                  леденцы   45.5\n",
       "4           5               кофе 3 в 1   15.0"
      ]
     },
     "execution_count": 5,
     "metadata": {},
     "output_type": "execute_result"
    }
   ],
   "source": [
    "ab_products.head()"
   ]
  },
  {
   "cell_type": "markdown",
   "metadata": {},
   "source": [
    "## Статистический анализ\n",
    "\n",
    "Чтобы оценить, правда ли, что новый алгоритм улучшил эффективность системы рекомендаций необходимо провести статистический анализ. "
   ]
  },
  {
   "cell_type": "markdown",
   "metadata": {},
   "source": [
    "## Средний чек\n",
    "Данная метрика отвечает за среднюю сумму заказа на пользователя\n",
    "\n",
    "Нулевая гипотеза (𝐻₀): Нет различий в среднем чеке между пользователями с новой системой рекомендаций и пользователями со старой версией приложения.\n",
    "\n",
    "𝐻₀: μ₀ = μ₁\n",
    "\n",
    "Альтернативная гипотеза (𝐻₁): Существуют различия в среднем чеке между пользователями с новой системой рекомендаций и пользователями со старой версией приложения.\n",
    "\n",
    "𝐻₁: μ₀ ≠ μ₁"
   ]
  },
  {
   "cell_type": "code",
   "execution_count": 6,
   "metadata": {},
   "outputs": [],
   "source": [
    "ab_orders_expanded = ab_orders.copy()\n",
    "\n",
    "ab_orders_expanded['product_ids'] = ab_orders_expanded['product_ids'].apply(lambda x: \n",
    "                                                                            list(map(int, x.strip('{}').split(', ')))\n",
    "                                                                           )\n",
    "\n",
    "ab_orders_expanded = ab_orders_expanded.explode('product_ids')\n",
    "\n",
    "ab_orders_expanded = ab_orders_expanded.merge(ab_products, left_on='product_ids', right_on='product_id')\n",
    "\n",
    "ab_orders_total = ab_orders_expanded.groupby('order_id')['price'].sum().reset_index(name='total_price')\n",
    "\n",
    "ab_user_orders = ab_users_data.merge(ab_orders_total, on='order_id')\n",
    "\n",
    "user_avg_check = ab_user_orders.groupby('user_id').agg(\n",
    "    total_spent=('total_price', 'sum'),\n",
    "    order_count=('order_id', 'nunique')\n",
    ").reset_index()\n",
    "user_avg_check['avg_check'] = user_avg_check['total_spent'] / user_avg_check['order_count']\n",
    "\n",
    "user_avg_check = user_avg_check.merge(ab_users_data[['user_id', 'group']].drop_duplicates(), on='user_id')"
   ]
  },
  {
   "cell_type": "code",
   "execution_count": 7,
   "metadata": {},
   "outputs": [
    {
     "data": {
      "text/plain": [
       "(1.4835135849437482, 0.1380295748494135)"
      ]
     },
     "execution_count": 7,
     "metadata": {},
     "output_type": "execute_result"
    }
   ],
   "source": [
    "group_0 = ab_user_orders[ab_user_orders['group'] == 0]['total_price']\n",
    "group_1 = ab_user_orders[ab_user_orders['group'] == 1]['total_price']\n",
    "\n",
    "t_stat, p_value = ttest_ind(group_0, group_1, equal_var=False)\n",
    "\n",
    "t_stat, p_value"
   ]
  },
  {
   "cell_type": "code",
   "execution_count": 8,
   "metadata": {},
   "outputs": [
    {
     "data": {
      "image/png": "[encoded data removed]",
      "text/plain": [
       "<Figure size 576x432 with 1 Axes>"
      ]
     },
     "metadata": {
      "needs_background": "light"
     },
     "output_type": "display_data"
    }
   ],
   "source": [
    "plt.figure(figsize=(8, 6))\n",
    "sns.boxplot(data=user_avg_check, x='group', y='avg_check')\n",
    "plt.title('Средний чек')\n",
    "plt.xlabel('Группа')\n",
    "plt.ylabel('Средний чек')\n",
    "plt.show()"
   ]
  },
  {
   "cell_type": "markdown",
   "metadata": {},
   "source": [
    "Так как p-значение больше типичного уровня значимости 0.05, мы не можем отвергнуть нулевую гипотезу о том, что средние чеки между двумя группами не отличаются. Это означает, что на основании имеющихся данных **нет статистически значимых доказательств того, что новая система рекомендаций повлияла на средний чек заказа.**"
   ]
  },
  {
   "cell_type": "markdown",
   "metadata": {},
   "source": [
    "## Количество товаров в заказе\n",
    "Данная метрика отвечает за среднее количество товаров в одном заказе.\n",
    "\n",
    "Нулевая гипотеза (𝐻₀): Нет различий в среднем количестве товаров в одном заказе между пользователями с новой системой рекомендаций и пользователями со старой версией приложения.\n",
    "\n",
    "𝐻₀: μ₀ = μ₁\n",
    "\n",
    "Альтернативная гипотеза (𝐻₁): Существуют различия в среднем количестве товаров в одном заказе между пользователями с новой системой рекомендаций и пользователями со старой версией приложения.\n",
    "\n",
    "𝐻₁: μ₀ ≠ μ₁"
   ]
  },
  {
   "cell_type": "code",
   "execution_count": 9,
   "metadata": {},
   "outputs": [
    {
     "data": {
      "text/plain": [
       "(-0.13855604538771835, 0.8898090205669105)"
      ]
     },
     "execution_count": 9,
     "metadata": {},
     "output_type": "execute_result"
    }
   ],
   "source": [
    "ab_orders_expanded['product_count'] = ab_orders_expanded.groupby('order_id')['product_ids'].transform('count')\n",
    "\n",
    "ab_orders_product_count = ab_orders_expanded[['order_id', 'product_count']].drop_duplicates()\n",
    "\n",
    "ab_user_orders_product_count = ab_users_data.merge(ab_orders_product_count, on='order_id')\n",
    "\n",
    "group_0_count = ab_user_orders_product_count[ab_user_orders_product_count['group'] == 0]['product_count']\n",
    "group_1_count = ab_user_orders_product_count[ab_user_orders_product_count['group'] == 1]['product_count']\n",
    "\n",
    "t_stat_count, p_value_count = ttest_ind(group_0_count, group_1_count, equal_var=False)\n",
    "\n",
    "t_stat_count, p_value_count"
   ]
  },
  {
   "cell_type": "code",
   "execution_count": 10,
   "metadata": {},
   "outputs": [
    {
     "data": {
      "image/png": "[encoded data removed]",
      "text/plain": [
       "<Figure size 576x432 with 1 Axes>"
      ]
     },
     "metadata": {
      "needs_background": "light"
     },
     "output_type": "display_data"
    }
   ],
   "source": [
    "plt.figure(figsize=(8, 6))\n",
    "sns.boxplot(data=ab_user_orders_product_count, x='group', y='product_count')\n",
    "plt.title('Количество товаров в заказе')\n",
    "plt.xlabel('Группа')\n",
    "plt.ylabel('Количество товаров')\n",
    "plt.show()"
   ]
  },
  {
   "cell_type": "markdown",
   "metadata": {},
   "source": [
    "Так как p-значение значительно больше уровня значимости 0.05, мы не можем отвергнуть нулевую гипотезу о том, что среднее количество товаров в заказе между двумя группами не отличается. Это означает, что на основании имеющихся данных **нет статистически значимых доказательств того, что новая система рекомендаций повлияла на среднее количество товаров в заказе.**"
   ]
  },
  {
   "cell_type": "markdown",
   "metadata": {},
   "source": [
    "## Средняя стоимость товара в заказе\n",
    "\n",
    "Данная метрика отвечает за среднюю стоимость одного товара в заказе.\n",
    "\n",
    "Нулевая гипотеза (𝐻₀): Нет различий в средней стоимости одного товара в заказе между пользователями с новой системой рекомендаций и пользователями со старой версией приложения.\n",
    "\n",
    "𝐻₀: μ₀ = μ₁\n",
    "\n",
    "Альтернативная гипотеза (𝐻₁): Существуют различия в средней стоимости одного товара в заказе между пользователями с новой системой рекомендаций и пользователями со старой версией приложения.\n",
    "\n",
    "𝐻₁: μ₀ ≠ μ₁"
   ]
  },
  {
   "cell_type": "code",
   "execution_count": 11,
   "metadata": {},
   "outputs": [
    {
     "data": {
      "text/plain": [
       "(2.1988295427870894, 0.02795858139752931)"
      ]
     },
     "execution_count": 11,
     "metadata": {},
     "output_type": "execute_result"
    }
   ],
   "source": [
    "ab_orders_expanded['average_price_per_product'] = ab_orders_expanded.groupby('order_id')['price'].transform('mean')\n",
    "\n",
    "ab_orders_avg_price = ab_orders_expanded[['order_id', 'average_price_per_product']].drop_duplicates()\n",
    "\n",
    "ab_user_orders_avg_price = ab_users_data.merge(ab_orders_avg_price, on='order_id')\n",
    "\n",
    "group_0_avg_price = ab_user_orders_avg_price[ab_user_orders_avg_price['group'] == 0]['average_price_per_product']\n",
    "group_1_avg_price = ab_user_orders_avg_price[ab_user_orders_avg_price['group'] == 1]['average_price_per_product']\n",
    "\n",
    "t_stat_avg_price, p_value_avg_price = ttest_ind(group_0_avg_price, group_1_avg_price, equal_var=False)\n",
    "\n",
    "t_stat_avg_price, p_value_avg_price"
   ]
  },
  {
   "cell_type": "code",
   "execution_count": 12,
   "metadata": {},
   "outputs": [
    {
     "data": {
      "image/png": "[encoded data removed]",
      "text/plain": [
       "<Figure size 576x432 with 1 Axes>"
      ]
     },
     "metadata": {
      "needs_background": "light"
     },
     "output_type": "display_data"
    }
   ],
   "source": [
    "plt.figure(figsize=(8, 6))\n",
    "sns.boxplot(data=ab_user_orders_avg_price, x='group', y='average_price_per_product')\n",
    "plt.title('Средняя стоимость товара в заказе ')\n",
    "plt.xlabel('Группа')\n",
    "plt.ylabel('Средняя стоимость товара')\n",
    "plt.show()"
   ]
  },
  {
   "cell_type": "markdown",
   "metadata": {},
   "source": [
    "Так как p-значение меньше уровня значимости 0.05, мы можем отвергнуть нулевую гипотезу и сделать вывод, что есть статистически значимые различия в средней стоимости одного товара в заказе между двумя группами. Это означает, что **новая система рекомендаций оказала влияние на среднюю стоимость товаров в заказе.**"
   ]
  },
  {
   "cell_type": "markdown",
   "metadata": {},
   "source": [
    "## Частота покупок\n",
    "Данная метрика отвечает за среднее количество заказов на одного пользователя за период теста.\n",
    "\n",
    "Нулевая гипотеза (𝐻₀): Нет различий в частоте покупок между пользователями с новой системой рекомендаций и пользователями со старой версией приложения.\n",
    "\n",
    "𝐻₀: μ₀ = μ₁\n",
    "\n",
    "Альтернативная гипотеза (𝐻₁): Существуют различия в частоте покупок между пользователями с новой системой рекомендаций и пользователями со старой версией приложения\n",
    "\n",
    "𝐻₁: μ₀ ≠ μ₁"
   ]
  },
  {
   "cell_type": "code",
   "execution_count": 13,
   "metadata": {},
   "outputs": [
    {
     "data": {
      "text/plain": [
       "(-14.485156769858916, 2.9077831935473898e-43)"
      ]
     },
     "execution_count": 13,
     "metadata": {},
     "output_type": "execute_result"
    }
   ],
   "source": [
    "user_order_count = ab_users_data \\\n",
    ".groupby(['user_id', 'group']).size().reset_index(name='order_count')\n",
    "\n",
    "group_0_order_count = user_order_count[user_order_count['group'] == 0]['order_count']\n",
    "group_1_order_count = user_order_count[user_order_count['group'] == 1]['order_count']\n",
    "\n",
    "t_stat_order_count, p_value_order_count = ttest_ind(group_0_order_count, group_1_order_count, equal_var=False)\n",
    "\n",
    "t_stat_order_count, p_value_order_count"
   ]
  },
  {
   "cell_type": "code",
   "execution_count": 14,
   "metadata": {},
   "outputs": [
    {
     "data": {
      "image/png": "[encoded data removed]",
      "text/plain": [
       "<Figure size 576x432 with 1 Axes>"
      ]
     },
     "metadata": {
      "needs_background": "light"
     },
     "output_type": "display_data"
    }
   ],
   "source": [
    "plt.figure(figsize=(8, 6))\n",
    "sns.boxplot(data=user_order_count, x='group', y='order_count')\n",
    "plt.title('Частота покупок')\n",
    "plt.xlabel('Группа')\n",
    "plt.ylabel('Количество заказов')\n",
    "plt.show()"
   ]
  },
  {
   "cell_type": "markdown",
   "metadata": {},
   "source": [
    "Так как p-значение значительно меньше уровня значимости 0.05, мы можем отвергнуть нулевую гипотезу и сделать вывод, что есть статистически значимые различия в частоте покупок между двумя группами. Это означает, что **новая система рекомендаций оказала значительное влияние на среднее количество заказов на одного пользователя.**"
   ]
  },
  {
   "cell_type": "markdown",
   "metadata": {},
   "source": [
    "# Результат\n",
    "\n",
    "Новая система рекомендаций значительно увеличивает частоту покупок, что является положительным результатом для бизнеса. Однако различия в среднем чеке и количестве товаров в заказе не являются статистически значимыми. Средняя стоимость товара в заказе показывает значимые различия между группами, что может свидетельствовать о влиянии новой системы рекомендаций на выбор товаров.\n",
    "\n",
    "## Рекомендации:\n",
    "\n",
    "Продолжить использование новой системы рекомендаций, так как она значительно увеличивает частоту покупок.\n",
    "Необходимо провести дополнительные исследования, чтобы понять, как система рекомендаций влияет на выбор товаров и стоимость заказа."
   ]
  }
 ],
 "metadata": {
  "kernelspec": {
   "display_name": "Python 3 (ipykernel)",
   "language": "python",
   "name": "python3"
  },
  "language_info": {
   "codemirror_mode": {
    "name": "ipython",
    "version": 3
   },
   "file_extension": ".py",
   "mimetype": "text/x-python",
   "name": "python",
   "nbconvert_exporter": "python",
   "pygments_lexer": "ipython3",
   "version": "3.11.5"
  }
 },
 "nbformat": 4,
 "nbformat_minor": 4
}
